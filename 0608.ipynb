{
  "nbformat": 4,
  "nbformat_minor": 0,
  "metadata": {
    "colab": {
      "name": "0608.ipynb",
      "provenance": [],
      "authorship_tag": "ABX9TyPO4jmAYeEUPFfbGQYhtGn6",
      "include_colab_link": true
    },
    "kernelspec": {
      "name": "python3",
      "display_name": "Python 3"
    },
    "language_info": {
      "name": "python"
    }
  },
  "cells": [
    {
      "cell_type": "markdown",
      "metadata": {
        "id": "view-in-github",
        "colab_type": "text"
      },
      "source": [
        "<a href=\"https://colab.research.google.com/github/410601495/Introduction-to-Computers/blob/main/0608.ipynb\" target=\"_parent\"><img src=\"https://colab.research.google.com/assets/colab-badge.svg\" alt=\"Open In Colab\"/></a>"
      ]
    },
    {
      "cell_type": "code",
      "execution_count": 1,
      "metadata": {
        "colab": {
          "base_uri": "https://localhost:8080/"
        },
        "id": "UMhJNFjhyun_",
        "outputId": "ad880c28-7704-48fc-8520-ab29823d6464"
      },
      "outputs": [
        {
          "output_type": "stream",
          "name": "stdout",
          "text": [
            "{'收入': {'部門A交易收入': 132, '部門B交易收入': 227, '部門C交易收入': 148}, '支出': {'部門A交易支出': 125, '部門B交易支出': 126, '部門C交易支出': 148}}\n"
          ]
        }
      ],
      "source": [
        "revenue = {\"部門A交易收入\":132, \"部門B交易收入\":227, \"部門C交易收入\":148}\n",
        "expense = {\"部門A交易支出\":125, \"部門B交易支出\":126, \"部門C交易支出\":148}\n",
        "operating_activities = {\"收入\": revenue, \"支出\": expense}\n",
        "print(operating_activities)"
      ]
    },
    {
      "cell_type": "code",
      "source": [
        "revenue=[44,65,60,58]\n",
        "sum1=0\n",
        "for i in revenue:\n",
        "  sum1+=i\n",
        "print(sum1)\n",
        "\n",
        "expense=[23,35,40,28]\n",
        "sum2=0\n",
        "for i in expense:\n",
        "  sum2+=i\n",
        "print(sum2)\n",
        "\n",
        "if sum1>sum2:\n",
        "  print(\"賺錢\")\n",
        "else:\n",
        "  print(\"不賺錢\")"
      ],
      "metadata": {
        "colab": {
          "base_uri": "https://localhost:8080/"
        },
        "id": "PRgTtBLky7Ju",
        "outputId": "36abd49b-1ea1-4e75-b6d8-e1451ccc1e98"
      },
      "execution_count": 2,
      "outputs": [
        {
          "output_type": "stream",
          "name": "stdout",
          "text": [
            "227\n",
            "126\n",
            "賺錢\n"
          ]
        }
      ]
    }
  ]
}
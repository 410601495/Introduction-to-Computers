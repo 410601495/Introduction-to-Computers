{
  "nbformat": 4,
  "nbformat_minor": 0,
  "metadata": {
    "colab": {
      "name": "0509.ipynb",
      "provenance": [],
      "authorship_tag": "ABX9TyOgZaFUSpQnTuwVZb2WGCRT",
      "include_colab_link": true
    },
    "kernelspec": {
      "name": "python3",
      "display_name": "Python 3"
    },
    "language_info": {
      "name": "python"
    }
  },
  "cells": [
    {
      "cell_type": "markdown",
      "metadata": {
        "id": "view-in-github",
        "colab_type": "text"
      },
      "source": [
        "<a href=\"https://colab.research.google.com/github/410601495/Introduction-to-Computers/blob/main/0509.ipynb\" target=\"_parent\"><img src=\"https://colab.research.google.com/assets/colab-badge.svg\" alt=\"Open In Colab\"/></a>"
      ]
    },
    {
      "cell_type": "code",
      "execution_count": null,
      "metadata": {
        "id": "vUczKJR077LN",
        "colab": {
          "base_uri": "https://localhost:8080/"
        },
        "outputId": "eefb4594-e6ae-4b5f-d904-386f5b348834"
      },
      "outputs": [
        {
          "output_type": "stream",
          "name": "stdout",
          "text": [
            "123\n"
          ]
        }
      ],
      "source": [
        "print(\"123\")"
      ]
    },
    {
      "cell_type": "code",
      "source": [
        "temp = float(input(\"請輸入你的體溫\"))\n",
        "if temp >= 37.5:\n",
        "  print(\"體溫過高\")\n",
        "elif temp >= 37 and temp <= 37.4:\n",
        "  print(\"體溫略高\")\n",
        "elif temp >= 34 and temp <= 36.9:\n",
        "  print(\"體溫正常\")\n",
        "else:\n",
        "  print(\"體溫異常，請重新量測\")"
      ],
      "metadata": {
        "id": "IxjZ_REA858o",
        "colab": {
          "base_uri": "https://localhost:8080/"
        },
        "outputId": "33f9ed0e-5a74-427d-c20f-2caf28c13080"
      },
      "execution_count": null,
      "outputs": [
        {
          "output_type": "stream",
          "name": "stdout",
          "text": [
            "請輸入你的體溫79\n",
            "體溫過高\n"
          ]
        }
      ]
    },
    {
      "cell_type": "code",
      "source": [
        "grade = int(input(\"請輸入你的成績\"))\n",
        "if grade >= 90:\n",
        "  print(\"A\")\n",
        "elif grade >= 80 and grade <= 89:\n",
        "  print(\"B\")\n",
        "elif grade >= 70 and grade <= 79:\n",
        "  print(\"C\")\n",
        "elif grade >= 60 and grade <= 69:\n",
        "  print(\"D\")\n",
        "else:\n",
        "  print(\"E\")"
      ],
      "metadata": {
        "colab": {
          "base_uri": "https://localhost:8080/"
        },
        "id": "Je5uke0bDaiu",
        "outputId": "1a65a68f-bde9-418c-892e-f68a711b9fc5"
      },
      "execution_count": null,
      "outputs": [
        {
          "output_type": "stream",
          "name": "stdout",
          "text": [
            "請輸入你的成績90\n",
            "A\n"
          ]
        }
      ]
    },
    {
      "cell_type": "code",
      "source": [
        "money = int(input(\"請輸入金額:\"))\n",
        "if (money>=10000):\n",
        "   if(money>=100000):\n",
        "     print(\"八折\",money*0.8, end = \"元\\n\")\n",
        "   elif(money>=50000):\n",
        "     print(\"八五折\",money*0.85, end = \"元\\n\")\n",
        "   elif(money>=30000):\n",
        "     print(\"九折\",money*0.9, end = \"元\\n\")\n",
        "   else:\n",
        "     print(\"九五折\",money*0.95, end = \"元\\n\")\n",
        "else:\n",
        "  print(\"沒打折\",money, end= \"元\\n\")"
      ],
      "metadata": {
        "colab": {
          "base_uri": "https://localhost:8080/"
        },
        "id": "YuXD9eIZGPxm",
        "outputId": "e1f15812-cf3c-44df-ac37-ac8a3b05c087"
      },
      "execution_count": 5,
      "outputs": [
        {
          "output_type": "stream",
          "name": "stdout",
          "text": [
            "請輸入金額:66\n",
            "沒打折 66元\n"
          ]
        }
      ]
    },
    {
      "cell_type": "code",
      "source": [
        "month= int(input(\"請輸入月份:\"))\n",
        "if(month>=1)and month<=12: \n",
        " if month>=3 and month<=5:\n",
        "  print(month,\"月是春天!\")\n",
        " elif month>=6 and month<=8:\n",
        "  print(month,\"月是夏天!\")\n",
        " elif month>=9 and month<=11:\n",
        "  print(month,\"月是秋天!\")\n",
        " else:\n",
        "  print(month,\"月是冬天!\")\n",
        "else:\n",
        "  print(\"月份不在範圍內!\")"
      ],
      "metadata": {
        "colab": {
          "base_uri": "https://localhost:8080/"
        },
        "id": "V3_gjY5j-252",
        "outputId": "1391b25c-caf2-4efb-85ec-08777c14c5b0"
      },
      "execution_count": 4,
      "outputs": [
        {
          "output_type": "stream",
          "name": "stdout",
          "text": [
            "請輸入月份:0\n",
            "月份不在範圍內!\n"
          ]
        }
      ]
    },
    {
      "cell_type": "code",
      "source": [
        "month= int(input(\"請輸入月份:\"))\n",
        "if(month>=1)and month<=12: \n",
        " if month>=3 and month<=5:\n",
        "  print(month,\"月是春天!\")\n",
        " elif month>=6 and month<=8:\n",
        "  print(month,\"月是夏天!\")\n",
        " elif month>=9 and month<=11:\n",
        "  print(month,\"月是秋天!\")\n",
        " else:\n",
        "  print(month,\"月是冬天!\")\n",
        "else:\n",
        "  print(\"月份不在範圍內!\")"
      ],
      "metadata": {
        "colab": {
          "base_uri": "https://localhost:8080/"
        },
        "id": "96WTLdTn-86u",
        "outputId": "695a5f72-5515-4017-805d-125f937958b7"
      },
      "execution_count": 3,
      "outputs": [
        {
          "output_type": "stream",
          "name": "stdout",
          "text": [
            "請輸入月份:0\n",
            "月份不在範圍內!\n"
          ]
        }
      ]
    }
  ]
}